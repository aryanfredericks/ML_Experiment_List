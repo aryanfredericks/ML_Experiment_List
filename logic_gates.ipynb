{
 "cells": [
  {
   "cell_type": "markdown",
   "metadata": {},
   "source": [
    "# **AND GATE**"
   ]
  },
  {
   "cell_type": "code",
   "execution_count": 5,
   "metadata": {},
   "outputs": [
    {
     "name": "stdout",
     "output_type": "stream",
     "text": [
      "[0 0] : 0\n",
      "[0 1] : 0\n",
      "[1 0] : 0\n",
      "[1 1] : 1\n"
     ]
    }
   ],
   "source": [
    "import numpy as np\n",
    "def step_function(x):\n",
    "    if x>=0:\n",
    "        return 1\n",
    "    else:\n",
    "        return 0\n",
    "    \n",
    "\n",
    "def perceptron(x , w , b):\n",
    "    weighted_sum = np.dot(w , x) + b\n",
    "    y_pred = step_function(weighted_sum)\n",
    "    return y_pred\n",
    "    \n",
    "\n",
    "def AND_GATE(x):\n",
    "    w = np.array([1 ,1])\n",
    "    b = -2\n",
    "    return perceptron(x , w, b)\n",
    "\n",
    "n1 = np.array([0,0])\n",
    "n2 = np.array([0,1])\n",
    "n3 = np.array([1,0])\n",
    "n4 = np.array([1,1])\n",
    "for i in [n1 , n2 , n3 , n4]:\n",
    "    print(str(i) + \" : \" + str(AND_GATE(i)))\n",
    "    "
   ]
  },
  {
   "cell_type": "markdown",
   "metadata": {},
   "source": [
    "# **OR GATE**"
   ]
  },
  {
   "cell_type": "code",
   "execution_count": 6,
   "metadata": {},
   "outputs": [
    {
     "name": "stdout",
     "output_type": "stream",
     "text": [
      "[0 0] : 0\n",
      "[0 1] : 1\n",
      "[1 0] : 1\n",
      "[1 1] : 1\n"
     ]
    }
   ],
   "source": [
    "def OR_GATE(x):\n",
    "    w = np.array([1 ,1])\n",
    "    b = -0.5\n",
    "    return perceptron(x , w, b)\n",
    "\n",
    "n1 = np.array([0,0])\n",
    "n2 = np.array([0,1])\n",
    "n3 = np.array([1,0])\n",
    "n4 = np.array([1,1])\n",
    "for i in [n1 , n2 , n3 , n4]:\n",
    "    print(str(i) + \" : \" + str(OR_GATE(i)))"
   ]
  },
  {
   "cell_type": "markdown",
   "metadata": {},
   "source": [
    "# **NOT GATE**"
   ]
  },
  {
   "cell_type": "code",
   "execution_count": 10,
   "metadata": {},
   "outputs": [
    {
     "name": "stdout",
     "output_type": "stream",
     "text": [
      "[0] : 1\n",
      "[1] : 0\n"
     ]
    }
   ],
   "source": [
    "def NOT_GATE(x):\n",
    "    w =np.array([-1])\n",
    "    b = 0.5\n",
    "    return perceptron(x , w, b)\n",
    "\n",
    "n1 = np.array([0])\n",
    "n2 = np.array([1])\n",
    "for i in [n1 , n2 ]:\n",
    "    print(str(i) + \" : \" + str(NOT_GATE(i)))"
   ]
  },
  {
   "cell_type": "markdown",
   "metadata": {},
   "source": [
    "# **NOR GATE**"
   ]
  },
  {
   "cell_type": "code",
   "execution_count": 12,
   "metadata": {},
   "outputs": [
    {
     "name": "stdout",
     "output_type": "stream",
     "text": [
      "[0 0] : 1\n",
      "[0 1] : 0\n",
      "[1 0] : 0\n",
      "[1 1] : 0\n"
     ]
    }
   ],
   "source": [
    "def NOR_GATE(x):\n",
    "    output_OR_GATE = OR_GATE(x)\n",
    "    output_NOT_GATE = NOT_GATE(output_OR_GATE)\n",
    "    return output_NOT_GATE\n",
    "\n",
    "n1 = np.array([0,0])\n",
    "n2 = np.array([0,1])\n",
    "n3 = np.array([1,0])\n",
    "n4 = np.array([1,1])\n",
    "for i in [n1 , n2 , n3 , n4]:\n",
    "    print(str(i) + \" : \" + str(NOR_GATE(i)))\n"
   ]
  },
  {
   "cell_type": "markdown",
   "metadata": {},
   "source": [
    "# **NAND GATE**"
   ]
  },
  {
   "cell_type": "code",
   "execution_count": 13,
   "metadata": {},
   "outputs": [
    {
     "name": "stdout",
     "output_type": "stream",
     "text": [
      "[0 0] : 1\n",
      "[0 1] : 1\n",
      "[1 0] : 1\n",
      "[1 1] : 0\n"
     ]
    }
   ],
   "source": [
    "def NAND_GATE(x):\n",
    "    output_AND_GATE = AND_GATE(x)\n",
    "    output_NOT_GATE = NOT_GATE(output_AND_GATE)\n",
    "    return output_NOT_GATE\n",
    "\n",
    "n1 = np.array([0,0])\n",
    "n2 = np.array([0,1])\n",
    "n3 = np.array([1,0])\n",
    "n4 = np.array([1,1])\n",
    "for i in [n1 , n2 , n3 , n4]:\n",
    "    print(str(i) + \" : \" + str(NAND_GATE(i)))"
   ]
  },
  {
   "cell_type": "markdown",
   "metadata": {},
   "source": [
    "# **X-OR GATE**"
   ]
  },
  {
   "cell_type": "code",
   "execution_count": 19,
   "metadata": {},
   "outputs": [
    {
     "name": "stdout",
     "output_type": "stream",
     "text": [
      "[0 0] : 0\n",
      "[0 1] : 1\n",
      "[1 0] : 1\n",
      "[1 1] : 0\n"
     ]
    }
   ],
   "source": [
    "def XOR_GATE(x):\n",
    "    output_NAND_GATE = NAND_GATE(x)\n",
    "    output_OR_GATE = OR_GATE(x)\n",
    "    return AND_GATE(np.array([output_NAND_GATE , output_OR_GATE]))\n",
    "\n",
    "n1 = np.array([0,0])\n",
    "n2 = np.array([0,1])\n",
    "n3 = np.array([1,0])\n",
    "n4 = np.array([1,1])\n",
    "for i in [n1 , n2 , n3 , n4]:\n",
    "    print(str(i) + \" : \" + str(XOR_GATE(i)))"
   ]
  },
  {
   "cell_type": "code",
   "execution_count": null,
   "metadata": {},
   "outputs": [],
   "source": []
  }
 ],
 "metadata": {
  "kernelspec": {
   "display_name": "Python 3",
   "language": "python",
   "name": "python3"
  },
  "language_info": {
   "codemirror_mode": {
    "name": "ipython",
    "version": 3
   },
   "file_extension": ".py",
   "mimetype": "text/x-python",
   "name": "python",
   "nbconvert_exporter": "python",
   "pygments_lexer": "ipython3",
   "version": "3.11.5"
  }
 },
 "nbformat": 4,
 "nbformat_minor": 2
}
